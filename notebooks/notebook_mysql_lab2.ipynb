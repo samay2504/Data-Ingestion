{
 "cells": [
  {
   "cell_type": "code",
   "execution_count": 1,
   "metadata": {},
   "outputs": [],
   "source": [
    "import mysql.connector\n",
    "from mysql.connector import Error\n",
    "import time"
   ]
  },
  {
   "cell_type": "code",
   "execution_count": 2,
   "metadata": {},
   "outputs": [
    {
     "name": "stdout",
     "output_type": "stream",
     "text": [
      "Connection to MySQL DB successful\n"
     ]
    }
   ],
   "source": [
    "# Establishing the connection to the MySQL server\n",
    "def create_connection(db_name=\"travel_1\"):\n",
    "    connection = None\n",
    "    try:\n",
    "        connection = mysql.connector.connect(\n",
    "            host=\"localhost\",  # Update with your host\n",
    "            user=\"root\",  # Update with your MySQL username\n",
    "            password=\"strong_password\",  # Update with your MySQL password\n",
    "            database=db_name  # Update with your database name\n",
    "        )\n",
    "        print(\"Connection to MySQL DB successful\")\n",
    "    except Error as e:\n",
    "        print(f\"The error '{e}' occurred\")\n",
    "    \n",
    "    return connection\n",
    "\n",
    "# Create tables according to the ER diagram\n",
    "def create_tables(connection):\n",
    "    cursor = connection.cursor()\n",
    "\n",
    "    # Create Users table\n",
    "    cursor.execute(\"\"\"\n",
    "    CREATE TABLE IF NOT EXISTS Users (\n",
    "        user_id INT AUTO_INCREMENT PRIMARY KEY,\n",
    "        username VARCHAR(50) NOT NULL,\n",
    "        email VARCHAR(100) NOT NULL,\n",
    "        password VARCHAR(255) NOT NULL,\n",
    "        contact_info VARCHAR(150)\n",
    "    )\n",
    "    \"\"\")\n",
    "\n",
    "    # Create Flight table\n",
    "    cursor.execute(\"\"\"\n",
    "    CREATE TABLE IF NOT EXISTS Flight (\n",
    "        flight_id INT AUTO_INCREMENT PRIMARY KEY,\n",
    "        airline VARCHAR(50),\n",
    "        destination VARCHAR(50),\n",
    "        departure_time DATETIME,\n",
    "        arrival_time DATETIME,\n",
    "        price DECIMAL(10, 2)\n",
    "    )\n",
    "    \"\"\")\n",
    "\n",
    "    # Create Hotel table\n",
    "    cursor.execute(\"\"\"\n",
    "    CREATE TABLE IF NOT EXISTS Hotel (\n",
    "        hotel_id INT AUTO_INCREMENT PRIMARY KEY,\n",
    "        name VARCHAR(50),\n",
    "        location VARCHAR(50),\n",
    "        rooms_available INT,\n",
    "        price_per_night DECIMAL(10, 2)\n",
    "    )\n",
    "    \"\"\")\n",
    "\n",
    "    # Create Car table with car_number column\n",
    "    cursor.execute(\"\"\"\n",
    "    CREATE TABLE IF NOT EXISTS Car (\n",
    "        car_id INT AUTO_INCREMENT PRIMARY KEY,\n",
    "        car_number VARCHAR(50) NOT NULL,\n",
    "        model VARCHAR(100),\n",
    "        type VARCHAR(50),\n",
    "        location VARCHAR(100),\n",
    "        rental_price DECIMAL(10, 2)\n",
    "    )\n",
    "    \"\"\")\n",
    "\n",
    "    # Create Booking table\n",
    "    cursor.execute(\"\"\"\n",
    "    CREATE TABLE IF NOT EXISTS Booking (\n",
    "        booking_id INT AUTO_INCREMENT PRIMARY KEY,\n",
    "        user_id INT,\n",
    "        flight_id INT,\n",
    "        hotel_id INT,\n",
    "        car_id INT,\n",
    "        booking_date DATETIME,\n",
    "        total_cost DECIMAL(10, 2),\n",
    "        FOREIGN KEY (user_id) REFERENCES Users(user_id),\n",
    "        FOREIGN KEY (flight_id) REFERENCES Flight(flight_id),\n",
    "        FOREIGN KEY (hotel_id) REFERENCES Hotel(hotel_id),\n",
    "        FOREIGN KEY (car_id) REFERENCES Car(car_id)\n",
    "    )\n",
    "    \"\"\")\n",
    "\n",
    "    connection.commit()\n",
    "    print(\"Tables created successfully\")\n",
    "\n",
    "\n",
    "# Insert sample data\n",
    "def insert_sample_data(connection):\n",
    "    cursor = connection.cursor()\n",
    "\n",
    "    # Insert data into Users\n",
    "    users = [\n",
    "        (\"JohnDoe\", \"john@example.com\", \"password123\", \"1234567890\"),\n",
    "        (\"JaneSmith\", \"jane@example.com\", \"password456\", \"0987654321\"),\n",
    "        (\"AliceJohnson\", \"alice@example.com\", \"password789\", \"1122334455\"),\n",
    "        (\"BobBrown\", \"bob@example.com\", \"password987\", \"2233445566\"),\n",
    "        (\"ChrisWhite\", \"chris@example.com\", \"password654\", \"3344556677\"),\n",
    "        (\"DianaGreen\", \"diana@example.com\", \"password321\", \"4455667788\"),\n",
    "        (\"EveBlue\", \"eve@example.com\", \"passwordabc\", \"5566778899\"),\n",
    "        (\"FrankYellow\", \"frank@example.com\", \"passworddef\", \"6677889900\"),\n",
    "        (\"GracePink\", \"grace@example.com\", \"passwordghi\", \"7788990011\"),\n",
    "        (\"HankBlack\", \"hank@example.com\", \"passwordjkl\", \"8899001122\")\n",
    "    ]\n",
    "    cursor.executemany(\"\"\"\n",
    "    INSERT INTO Users (username, email, password, contact_info) \n",
    "    VALUES (%s, %s, %s, %s)\n",
    "    \"\"\", users)\n",
    "\n",
    "    # Insert data into Flight\n",
    "    flights = [\n",
    "        (\"Airline A\", \"New York\", \"2024-12-01 08:00:00\", \"2024-12-01 14:00:00\", 500.00),\n",
    "        (\"Airline B\", \"London\", \"2024-12-05 10:00:00\", \"2024-12-05 16:00:00\", 750.00),\n",
    "        (\"Airline C\", \"Paris\", \"2023-05-20 09:00:00\", \"2023-05-20 13:00:00\", 600.00),\n",
    "        (\"Airline D\", \"Tokyo\", \"2023-09-12 14:00:00\", \"2023-09-12 22:00:00\", 800.00),\n",
    "        (\"Airline E\", \"Sydney\", \"2022-03-10 07:00:00\", \"2022-03-10 19:00:00\", 1200.00),\n",
    "        (\"Airline F\", \"Berlin\", \"2022-07-01 12:00:00\", \"2022-07-01 17:00:00\", 900.00)\n",
    "    ]\n",
    "    cursor.executemany(\"\"\"\n",
    "    INSERT INTO Flight (airline, destination, departure_time, arrival_time, price) \n",
    "    VALUES (%s, %s, %s, %s, %s)\n",
    "    \"\"\", flights)\n",
    "\n",
    "    # Insert data into Hotel\n",
    "    hotels = [\n",
    "        (\"Hotel Plaza\", \"New York\", 10, 200.00),\n",
    "        (\"Grand Hotel\", \"London\", 5, 300.00),\n",
    "        (\"Hilton Paris\", \"Paris\", 20, 250.00),\n",
    "        (\"Tokyo Inn\", \"Tokyo\", 15, 220.00),\n",
    "        (\"Sydney Lodge\", \"Sydney\", 7, 350.00),\n",
    "        (\"Berlin Suites\", \"Berlin\", 12, 400.00)\n",
    "    ]\n",
    "    cursor.executemany(\"\"\"\n",
    "    INSERT INTO Hotel (name, location, rooms_available, price_per_night) \n",
    "    VALUES (%s, %s, %s, %s)\n",
    "    \"\"\", hotels)\n",
    "\n",
    "    # Insert data into Car\n",
    "    cars = [\n",
    "        (\"Toyota Corolla\", \"AB1234\",\"Sedan\", \"New York\", 50.00),\n",
    "        (\"BMW X5\", \"AB1233\",\"SUV\", \"London\", 100.00),\n",
    "        (\"Audi A3\", \"AB1232\",\"Sedan\", \"Paris\", 70.00),\n",
    "        (\"Nissan Rogue\", \"AB1231\",\"SUV\", \"Tokyo\", 80.00),\n",
    "        (\"Ford Escape\", \"AB1230\",\"SUV\", \"Sydney\", 90.00),\n",
    "        (\"Mercedes-Benz C-Class\", \"AB1229\",\"Sedan\", \"Berlin\", 120.00)\n",
    "    ]\n",
    "    cursor.executemany(\"\"\"\n",
    "    INSERT INTO Car (model, car_number, type, location, rental_price) \n",
    "    VALUES (%s, %s, %s, %s, %s)\n",
    "    \"\"\", cars)\n",
    "\n",
    "    # Insert data into Booking\n",
    "    bookings = [\n",
    "        # Bookings for 2022\n",
    "        (1, 5, 5, 5, \"2022-03-10 07:00:00\", 1550.00),  # Sydney + Ford Escape\n",
    "        (2, 6, 6, 6, \"2022-07-01 12:00:00\", 1300.00),  # Berlin + Mercedes-Benz\n",
    "        (3, 3, 1, 1, \"2022-04-10 09:00:00\", 980.00),   # New York + Toyota Corolla\n",
    "        (4, 4, 2, 2, \"2022-06-18 12:00:00\", 1100.00),  # London + BMW X5\n",
    "        (5, 1, 3, 3, \"2022-08-25 10:00:00\", 890.00),   # Paris + Audi A3\n",
    "        (6, 2, 4, 4, \"2022-11-10 15:00:00\", 980.00),   # Tokyo + Nissan Rogue\n",
    "\n",
    "        # Bookings for 2023\n",
    "        (7, 3, 1, 1, \"2023-05-20 09:00:00\", 920.00),   # New York + Toyota Corolla\n",
    "        (8, 4, 2, 2, \"2023-08-15 12:00:00\", 1150.00),  # London + BMW X5\n",
    "        (9, 5, 3, 3, \"2023-04-18 10:00:00\", 990.00),   # Paris + Audi A3\n",
    "        (10, 6, 4, 4, \"2023-12-20 15:00:00\", 1420.00), # Tokyo + Nissan Rogue\n",
    "        (7, 6, 5, 6, \"2023-06-01 09:00:00\", 1850.00),  # Berlin + Mercedes-Benz\n",
    "        (8, 1, 6, 5, \"2023-09-12 14:00:00\", 1320.00)   # Sydney + Ford Escape\n",
    "    ]\n",
    "    cursor.executemany(\"\"\"\n",
    "    INSERT INTO Booking (user_id, flight_id, hotel_id, car_id, booking_date, total_cost) \n",
    "    VALUES (%s, %s, %s, %s, %s, %s)\n",
    "    \"\"\", bookings)\n",
    "\n",
    "    connection.commit()\n",
    "    print(\"Sample data inserted successfully\")\n",
    "\n",
    "\n",
    "# connection.cursor().execute(\"CREATE DATABASE duplicate_travel_1\")\n",
    "# Main execution\n",
    "connection = create_connection(db_name=\"travel_lab_2_dp_5\")\n",
    "# create_tables(connection)\n",
    "# insert_sample_data(connection)\n",
    "\n",
    "# connection.close()"
   ]
  },
  {
   "cell_type": "code",
   "execution_count": 3,
   "metadata": {},
   "outputs": [
    {
     "name": "stdout",
     "output_type": "stream",
     "text": [
      "Tables created successfully\n"
     ]
    }
   ],
   "source": [
    "create_tables(connection)"
   ]
  },
  {
   "cell_type": "code",
   "execution_count": 4,
   "metadata": {},
   "outputs": [
    {
     "name": "stdout",
     "output_type": "stream",
     "text": [
      "Sample data inserted successfully\n"
     ]
    }
   ],
   "source": [
    "insert_sample_data(connection=connection)"
   ]
  },
  {
   "cell_type": "code",
   "execution_count": 5,
   "metadata": {},
   "outputs": [],
   "source": [
    "def view_table_data(connection):\n",
    "    cursor = connection.cursor()\n",
    "\n",
    "    # Query to view Users data\n",
    "    print(\"\\nUsers Table:\")\n",
    "    cursor.execute(\"SELECT * FROM Users;\")\n",
    "    for row in cursor.fetchall():\n",
    "        print(row)\n",
    "\n",
    "    # Query to view Flight data\n",
    "    print(\"\\nFlight Table:\")\n",
    "    cursor.execute(\"SELECT * FROM Flight;\")\n",
    "    for row in cursor.fetchall():\n",
    "        print(row)\n",
    "\n",
    "    # Query to view Hotel data\n",
    "    print(\"\\nHotel Table:\")\n",
    "    cursor.execute(\"SELECT * FROM Hotel;\")\n",
    "    for row in cursor.fetchall():\n",
    "        print(row)\n",
    "\n",
    "    # Query to view Car data\n",
    "    print(\"\\nCar Table:\")\n",
    "    cursor.execute(\"SELECT * FROM Car;\")\n",
    "    for row in cursor.fetchall():\n",
    "        print(row)\n",
    "\n",
    "    # Query to view Booking data\n",
    "    print(\"\\nBooking Table:\")\n",
    "    cursor.execute(\"SELECT * FROM Booking;\")\n",
    "    for row in cursor.fetchall():\n",
    "        print(row)\n",
    "\n",
    "    # Query to view joined Booking data with related tables\n",
    "    print(\"\\nJoined Booking Data (Booking + Users + Flight + Hotel + Car):\")\n",
    "    cursor.execute(\"\"\"\n",
    "        SELECT \n",
    "            b.booking_id,\n",
    "            u.username,\n",
    "            f.airline,\n",
    "            f.destination,\n",
    "            h.name AS hotel_name,\n",
    "            c.model AS car_model,\n",
    "            b.booking_date,\n",
    "            b.total_cost\n",
    "        FROM Booking b\n",
    "        JOIN Users u ON b.user_id = u.user_id\n",
    "        JOIN Flight f ON b.flight_id = f.flight_id\n",
    "        JOIN Hotel h ON b.hotel_id = h.hotel_id\n",
    "        JOIN Car c ON b.car_id = c.car_id;\n",
    "    \"\"\")\n",
    "    for row in cursor.fetchall():\n",
    "        print(row)"
   ]
  },
  {
   "cell_type": "code",
   "execution_count": 6,
   "metadata": {},
   "outputs": [
    {
     "name": "stdout",
     "output_type": "stream",
     "text": [
      "\n",
      "Users Table:\n",
      "(1, 'JohnDoe', 'john@example.com', 'password123', '1234567890')\n",
      "(2, 'JaneSmith', 'jane@example.com', 'password456', '0987654321')\n",
      "(3, 'AliceJohnson', 'alice@example.com', 'password789', '1122334455')\n",
      "(4, 'BobBrown', 'bob@example.com', 'password987', '2233445566')\n",
      "(5, 'ChrisWhite', 'chris@example.com', 'password654', '3344556677')\n",
      "(6, 'DianaGreen', 'diana@example.com', 'password321', '4455667788')\n",
      "(7, 'EveBlue', 'eve@example.com', 'passwordabc', '5566778899')\n",
      "(8, 'FrankYellow', 'frank@example.com', 'passworddef', '6677889900')\n",
      "(9, 'GracePink', 'grace@example.com', 'passwordghi', '7788990011')\n",
      "(10, 'HankBlack', 'hank@example.com', 'passwordjkl', '8899001122')\n",
      "\n",
      "Flight Table:\n",
      "(1, 'Airline A', 'New York', datetime.datetime(2024, 12, 1, 8, 0), datetime.datetime(2024, 12, 1, 14, 0), Decimal('500.00'))\n",
      "(2, 'Airline B', 'London', datetime.datetime(2024, 12, 5, 10, 0), datetime.datetime(2024, 12, 5, 16, 0), Decimal('750.00'))\n",
      "(3, 'Airline C', 'Paris', datetime.datetime(2023, 5, 20, 9, 0), datetime.datetime(2023, 5, 20, 13, 0), Decimal('600.00'))\n",
      "(4, 'Airline D', 'Tokyo', datetime.datetime(2023, 9, 12, 14, 0), datetime.datetime(2023, 9, 12, 22, 0), Decimal('800.00'))\n",
      "(5, 'Airline E', 'Sydney', datetime.datetime(2022, 3, 10, 7, 0), datetime.datetime(2022, 3, 10, 19, 0), Decimal('1200.00'))\n",
      "(6, 'Airline F', 'Berlin', datetime.datetime(2022, 7, 1, 12, 0), datetime.datetime(2022, 7, 1, 17, 0), Decimal('900.00'))\n",
      "\n",
      "Hotel Table:\n",
      "(1, 'Hotel Plaza', 'New York', 10, Decimal('200.00'))\n",
      "(2, 'Grand Hotel', 'London', 5, Decimal('300.00'))\n",
      "(3, 'Hilton Paris', 'Paris', 20, Decimal('250.00'))\n",
      "(4, 'Tokyo Inn', 'Tokyo', 15, Decimal('220.00'))\n",
      "(5, 'Sydney Lodge', 'Sydney', 7, Decimal('350.00'))\n",
      "(6, 'Berlin Suites', 'Berlin', 12, Decimal('400.00'))\n",
      "\n",
      "Car Table:\n",
      "(1, 'AB1234', 'Toyota Corolla', 'Sedan', 'New York', Decimal('50.00'))\n",
      "(2, 'AB1233', 'BMW X5', 'SUV', 'London', Decimal('100.00'))\n",
      "(3, 'AB1232', 'Audi A3', 'Sedan', 'Paris', Decimal('70.00'))\n",
      "(4, 'AB1231', 'Nissan Rogue', 'SUV', 'Tokyo', Decimal('80.00'))\n",
      "(5, 'AB1230', 'Ford Escape', 'SUV', 'Sydney', Decimal('90.00'))\n",
      "(6, 'AB1229', 'Mercedes-Benz C-Class', 'Sedan', 'Berlin', Decimal('120.00'))\n",
      "\n",
      "Booking Table:\n",
      "(1, 1, 5, 5, 5, datetime.datetime(2022, 3, 10, 7, 0), Decimal('1550.00'))\n",
      "(2, 2, 6, 6, 6, datetime.datetime(2022, 7, 1, 12, 0), Decimal('1300.00'))\n",
      "(3, 3, 3, 1, 1, datetime.datetime(2022, 4, 10, 9, 0), Decimal('980.00'))\n",
      "(4, 4, 4, 2, 2, datetime.datetime(2022, 6, 18, 12, 0), Decimal('1100.00'))\n",
      "(5, 5, 1, 3, 3, datetime.datetime(2022, 8, 25, 10, 0), Decimal('890.00'))\n",
      "(6, 6, 2, 4, 4, datetime.datetime(2022, 11, 10, 15, 0), Decimal('980.00'))\n",
      "(7, 7, 3, 1, 1, datetime.datetime(2023, 5, 20, 9, 0), Decimal('920.00'))\n",
      "(8, 8, 4, 2, 2, datetime.datetime(2023, 8, 15, 12, 0), Decimal('1150.00'))\n",
      "(9, 9, 5, 3, 3, datetime.datetime(2023, 4, 18, 10, 0), Decimal('990.00'))\n",
      "(10, 10, 6, 4, 4, datetime.datetime(2023, 12, 20, 15, 0), Decimal('1420.00'))\n",
      "(11, 7, 6, 5, 6, datetime.datetime(2023, 6, 1, 9, 0), Decimal('1850.00'))\n",
      "(12, 8, 1, 6, 5, datetime.datetime(2023, 9, 12, 14, 0), Decimal('1320.00'))\n",
      "\n",
      "Joined Booking Data (Booking + Users + Flight + Hotel + Car):\n",
      "(5, 'ChrisWhite', 'Airline A', 'New York', 'Hilton Paris', 'Audi A3', datetime.datetime(2022, 8, 25, 10, 0), Decimal('890.00'))\n",
      "(12, 'FrankYellow', 'Airline A', 'New York', 'Berlin Suites', 'Ford Escape', datetime.datetime(2023, 9, 12, 14, 0), Decimal('1320.00'))\n",
      "(6, 'DianaGreen', 'Airline B', 'London', 'Tokyo Inn', 'Nissan Rogue', datetime.datetime(2022, 11, 10, 15, 0), Decimal('980.00'))\n",
      "(3, 'AliceJohnson', 'Airline C', 'Paris', 'Hotel Plaza', 'Toyota Corolla', datetime.datetime(2022, 4, 10, 9, 0), Decimal('980.00'))\n",
      "(7, 'EveBlue', 'Airline C', 'Paris', 'Hotel Plaza', 'Toyota Corolla', datetime.datetime(2023, 5, 20, 9, 0), Decimal('920.00'))\n",
      "(4, 'BobBrown', 'Airline D', 'Tokyo', 'Grand Hotel', 'BMW X5', datetime.datetime(2022, 6, 18, 12, 0), Decimal('1100.00'))\n",
      "(8, 'FrankYellow', 'Airline D', 'Tokyo', 'Grand Hotel', 'BMW X5', datetime.datetime(2023, 8, 15, 12, 0), Decimal('1150.00'))\n",
      "(1, 'JohnDoe', 'Airline E', 'Sydney', 'Sydney Lodge', 'Ford Escape', datetime.datetime(2022, 3, 10, 7, 0), Decimal('1550.00'))\n",
      "(9, 'GracePink', 'Airline E', 'Sydney', 'Hilton Paris', 'Audi A3', datetime.datetime(2023, 4, 18, 10, 0), Decimal('990.00'))\n",
      "(2, 'JaneSmith', 'Airline F', 'Berlin', 'Berlin Suites', 'Mercedes-Benz C-Class', datetime.datetime(2022, 7, 1, 12, 0), Decimal('1300.00'))\n",
      "(10, 'HankBlack', 'Airline F', 'Berlin', 'Tokyo Inn', 'Nissan Rogue', datetime.datetime(2023, 12, 20, 15, 0), Decimal('1420.00'))\n",
      "(11, 'EveBlue', 'Airline F', 'Berlin', 'Sydney Lodge', 'Mercedes-Benz C-Class', datetime.datetime(2023, 6, 1, 9, 0), Decimal('1850.00'))\n"
     ]
    }
   ],
   "source": [
    "view_table_data(connection)"
   ]
  },
  {
   "cell_type": "markdown",
   "metadata": {},
   "source": [
    "#### Extract a list of all `<car_number, type>` that had bookings in all months of 2023."
   ]
  },
  {
   "cell_type": "code",
   "execution_count": 19,
   "metadata": {},
   "outputs": [
    {
     "name": "stdout",
     "output_type": "stream",
     "text": [
      "Query executed in 0.000060 seconds\n",
      "AB1234 Sedan \n",
      "AB1233 SUV \n",
      "AB1232 Sedan \n",
      "AB1231 SUV \n",
      "AB1230 SUV \n",
      "AB1229 Sedan \n"
     ]
    }
   ],
   "source": [
    "# C code\n",
    "! /home/gjyotin305/Desktop/DE-Assign-1/cscripts/testMySqlAPI 0"
   ]
  },
  {
   "cell_type": "code",
   "execution_count": 20,
   "metadata": {},
   "outputs": [
    {
     "name": "stdout",
     "output_type": "stream",
     "text": [
      "Query Executed in 0.0024504661560058594\n"
     ]
    }
   ],
   "source": [
    "start = time.time()\n",
    "cursor = connection.cursor()\n",
    "\n",
    "query = \"\"\"\n",
    "SELECT C.car_number, C.type\n",
    "FROM Booking B\n",
    "JOIN Car C ON B.car_id = C.car_id\n",
    "WHERE YEAR(B.booking_date) = 2023;\n",
    "\"\"\"\n",
    "\n",
    "cursor.execute(query)\n",
    "cars_all_months = cursor.fetchall()\n",
    "end = time.time()\n",
    "\n",
    "print(f\"Query Executed in {end-start}\")"
   ]
  },
  {
   "cell_type": "code",
   "execution_count": 8,
   "metadata": {},
   "outputs": [
    {
     "data": {
      "text/plain": [
       "[('AB1234', 'Sedan'),\n",
       " ('AB1233', 'SUV'),\n",
       " ('AB1232', 'Sedan'),\n",
       " ('AB1231', 'SUV'),\n",
       " ('AB1230', 'SUV'),\n",
       " ('AB1229', 'Sedan')]"
      ]
     },
     "execution_count": 8,
     "metadata": {},
     "output_type": "execute_result"
    }
   ],
   "source": [
    "cars_all_months"
   ]
  },
  {
   "cell_type": "markdown",
   "metadata": {},
   "source": [
    "#### From the above list, print the names of all car_numbers who were associated with a flight booking."
   ]
  },
  {
   "cell_type": "code",
   "execution_count": 17,
   "metadata": {},
   "outputs": [
    {
     "name": "stdout",
     "output_type": "stream",
     "text": [
      "Query executed in 0.000060 seconds\n",
      "AB1234 Sedan \n",
      "AB1233 SUV \n",
      "AB1232 Sedan \n",
      "AB1231 SUV \n",
      "AB1230 SUV \n",
      "AB1229 Sedan \n"
     ]
    }
   ],
   "source": [
    "# C code\n",
    "! /home/gjyotin305/Desktop/DE-Assign-1/cscripts/testMySqlAPI 1"
   ]
  },
  {
   "cell_type": "code",
   "execution_count": 9,
   "metadata": {},
   "outputs": [],
   "source": [
    "start = time.time()\n",
    "cursor = connection.cursor()\n",
    "\n",
    "query = \"\"\"\n",
    "SELECT C.car_number, C.type\n",
    "FROM Booking B\n",
    "JOIN Car C ON B.car_id = C.car_id\n",
    "WHERE YEAR(B.booking_date) = 2023 AND B.flight_id IS NOT NULL;\n",
    "\"\"\"\n",
    "\n",
    "cursor.execute(query)\n",
    "result = cursor.fetchall()\n",
    "end = time.time()\n",
    "\n",
    "print(f\"Query Executed in {end-start}\")"
   ]
  },
  {
   "cell_type": "code",
   "execution_count": 10,
   "metadata": {},
   "outputs": [
    {
     "data": {
      "text/plain": [
       "[('AB1234', 'Sedan'),\n",
       " ('AB1233', 'SUV'),\n",
       " ('AB1232', 'Sedan'),\n",
       " ('AB1231', 'SUV'),\n",
       " ('AB1230', 'SUV'),\n",
       " ('AB1229', 'Sedan')]"
      ]
     },
     "execution_count": 10,
     "metadata": {},
     "output_type": "execute_result"
    }
   ],
   "source": [
    "result"
   ]
  },
  {
   "cell_type": "markdown",
   "metadata": {},
   "source": [
    "#### Print a list of all guests who have made a booking of ‘single_room’ + ‘innova’ in 2022, From the above list, derive a list of the guest_name and their profile information.\n"
   ]
  },
  {
   "cell_type": "code",
   "execution_count": 16,
   "metadata": {},
   "outputs": [
    {
     "name": "stdout",
     "output_type": "stream",
     "text": [
      "Query executed in 0.000075 seconds\n",
      "AliceJohnson 1122334455 alice@example.com \n"
     ]
    }
   ],
   "source": [
    "# C code\n",
    "! /home/gjyotin305/Desktop/DE-Assign-1/cscripts/testMySqlAPI 2"
   ]
  },
  {
   "cell_type": "code",
   "execution_count": 11,
   "metadata": {},
   "outputs": [],
   "source": [
    "start = time.time()\n",
    "cursor = connection.cursor()\n",
    "\n",
    "query = \"\"\"\n",
    "SELECT u.username, u.contact_info, u.email\n",
    "FROM Users u\n",
    "JOIN Booking b ON u.user_id = b.user_id\n",
    "JOIN Hotel h ON b.hotel_id = h.hotel_id\n",
    "JOIN Car c ON b.car_id = c.car_id\n",
    "WHERE h.name = 'Hotel Plaza' AND c.model = 'Toyota Corolla'\n",
    "AND YEAR(b.booking_date) = 2022\n",
    "\"\"\"\n",
    "\n",
    "cursor.execute(query)\n",
    "result = cursor.fetchall()\n",
    "end = time.time()\n",
    "\n",
    "print(f\"Query Executed in {end-start}\")"
   ]
  },
  {
   "cell_type": "code",
   "execution_count": 12,
   "metadata": {},
   "outputs": [
    {
     "data": {
      "text/plain": [
       "[('AliceJohnson', '1122334455', 'alice@example.com')]"
      ]
     },
     "execution_count": 12,
     "metadata": {},
     "output_type": "execute_result"
    }
   ],
   "source": [
    "result"
   ]
  },
  {
   "cell_type": "markdown",
   "metadata": {},
   "source": [
    "#### Derive a list of all <guest_profiles> who have not made any bookings.\n"
   ]
  },
  {
   "cell_type": "code",
   "execution_count": 13,
   "metadata": {},
   "outputs": [],
   "source": [
    "start = time.time()\n",
    "cursor = connection.cursor()\n",
    "\n",
    "query = \"\"\"\n",
    "SELECT u.username, u.email\n",
    "FROM Users u\n",
    "LEFT JOIN Booking b ON u.user_id = b.user_id\n",
    "WHERE b.user_id IS NULL;\n",
    "\"\"\"\n",
    "\n",
    "cursor.execute(query)\n",
    "result = cursor.fetchall()\n",
    "end = time.time()\n",
    "\n",
    "print(f\"Query Executed in {end-start}\")"
   ]
  },
  {
   "cell_type": "code",
   "execution_count": 14,
   "metadata": {},
   "outputs": [
    {
     "data": {
      "text/plain": [
       "[]"
      ]
     },
     "execution_count": 14,
     "metadata": {},
     "output_type": "execute_result"
    }
   ],
   "source": [
    "result"
   ]
  }
 ],
 "metadata": {
  "kernelspec": {
   "display_name": "de-assign-1",
   "language": "python",
   "name": "python3"
  },
  "language_info": {
   "codemirror_mode": {
    "name": "ipython",
    "version": 3
   },
   "file_extension": ".py",
   "mimetype": "text/x-python",
   "name": "python",
   "nbconvert_exporter": "python",
   "pygments_lexer": "ipython3",
   "version": "3.12.4"
  }
 },
 "nbformat": 4,
 "nbformat_minor": 2
}
